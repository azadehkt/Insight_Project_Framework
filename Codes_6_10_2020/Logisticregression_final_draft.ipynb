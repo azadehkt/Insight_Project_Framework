{
 "cells": [
  {
   "cell_type": "markdown",
   "metadata": {},
   "source": [
    "# Analysing the host information including;age, location,gender and status for the possible prediction of outcome of recovery vs Death"
   ]
  },
  {
   "cell_type": "code",
   "execution_count": 28,
   "metadata": {},
   "outputs": [],
   "source": [
    "import pandas as pd\n",
    "import matplotlib.pyplot as plt\n",
    "import numpy as np\n",
    "import seaborn as sns\n",
    "import sklearn"
   ]
  },
  {
   "cell_type": "code",
   "execution_count": 29,
   "metadata": {},
   "outputs": [],
   "source": [
    "data = pd.read_csv('data_SARS-CoV-2_TestMetadata_with_viral.csv')"
   ]
  },
  {
   "cell_type": "code",
   "execution_count": 30,
   "metadata": {},
   "outputs": [
    {
     "name": "stdout",
     "output_type": "stream",
     "text": [
      "record_date\n",
      "virus_name\n",
      "accession_id\n",
      "type\n",
      "lineage\n",
      "passage_details_history\n",
      "collection_date\n",
      "location\n",
      "host\n",
      "additional_location_info\n",
      "gender\n",
      "age\n",
      "status\n",
      "specimen_source\n",
      "additional_host_information\n",
      "outbreak\n",
      "last_vaccinated\n",
      "treatment\n",
      "sequencing_technology\n",
      "assembly_method\n",
      "coverage\n",
      "comment\n",
      "originating_lab\n",
      "originating_lab_address\n",
      "sample_id_given_by_sample_provider\n",
      "submitting_lab\n",
      "submitting_lab_address\n",
      "sample_id_given_by_submitting_lab\n",
      "authors\n",
      "submitter\n",
      "submission_date\n",
      "submitter_address\n",
      "Query\n",
      "Strand\n",
      "%N\n",
      "Length(nt)\n",
      "Length(aa)\n",
      "#Muts\n",
      "%Muts\n",
      "#UniqueMuts\n",
      "%UniqueMuts\n",
      "#ExistingMuts\n",
      "%ExistingMuts\n",
      "Comment\n",
      "Symbol\n",
      "Reference\n",
      "UniqueMutList\n",
      "ExistingMutList\n",
      "Clade\n",
      "IfExistSpecialChar\n"
     ]
    }
   ],
   "source": [
    "# iterating the columns \n",
    "for col in data.columns: \n",
    "    print(col) "
   ]
  },
  {
   "cell_type": "markdown",
   "metadata": {},
   "source": [
    "# Preprocessing and cleaning the data"
   ]
  },
  {
   "cell_type": "code",
   "execution_count": 31,
   "metadata": {},
   "outputs": [],
   "source": [
    "#important features\n",
    "#important features\n",
    "start_data_row = 0\n",
    "Final_data_row = 255\n",
    "Data = data.loc[ start_data_row:Final_data_row , ['location','gender','age','status']]\n",
    "#change the index of the data according to the length of the new data\n",
    "Data.index = range(len(Data))"
   ]
  },
  {
   "cell_type": "code",
   "execution_count": 32,
   "metadata": {},
   "outputs": [],
   "source": [
    "#getting rid of NaN data\n",
    "Data.dropna(subset = ['status'], inplace=True)"
   ]
  },
  {
   "cell_type": "code",
   "execution_count": 33,
   "metadata": {},
   "outputs": [],
   "source": [
    "#getting rid of NaN data\n",
    "Data.drop(Data.loc[Data['status']=='unknown'].index, inplace=True)\n",
    "Data.index = range(len(Data))"
   ]
  },
  {
   "cell_type": "code",
   "execution_count": 34,
   "metadata": {},
   "outputs": [
    {
     "data": {
      "text/plain": [
       "['Oceania   Australia ',\n",
       " 'Oceania   Australia ',\n",
       " 'Asia   Georgia ',\n",
       " 'Asia   Georgia ',\n",
       " 'Asia   Georgia ',\n",
       " 'Asia   Georgia ',\n",
       " 'Europe   France ',\n",
       " 'Europe   France ',\n",
       " 'Europe   France ',\n",
       " 'Europe   France ',\n",
       " 'Europe   France ',\n",
       " 'Europe   France ',\n",
       " 'Europe   France ',\n",
       " 'Europe   France ',\n",
       " 'Europe   France ',\n",
       " 'Europe   France ',\n",
       " 'Europe   France ',\n",
       " 'Europe   France ',\n",
       " 'Asia   China ',\n",
       " 'Europe   Russia ',\n",
       " 'Asia   China ',\n",
       " 'South America   Brazil ',\n",
       " 'South America   Brazil ',\n",
       " 'South America   Brazil ',\n",
       " 'South America   Brazil ',\n",
       " 'South America   Brazil ',\n",
       " 'South America   Brazil ',\n",
       " 'South America   Brazil ',\n",
       " 'South America   Ecuador ',\n",
       " 'Central America   Costa Rica',\n",
       " 'Central America   Costa Rica',\n",
       " 'Central America   Costa Rica',\n",
       " 'Oceania   New Zealand ',\n",
       " 'Asia   India ',\n",
       " 'Asia   India ',\n",
       " 'Asia   India ',\n",
       " 'Asia   India ',\n",
       " 'Asia   India ',\n",
       " 'Asia   India ',\n",
       " 'Asia   India ',\n",
       " 'Asia   India ',\n",
       " 'Asia   India ',\n",
       " 'Asia   Thailand ',\n",
       " 'Asia   Thailand ',\n",
       " 'North America   USA   Texas ',\n",
       " 'North America   USA   Texas ',\n",
       " 'North America   USA   Texas ',\n",
       " 'North America   USA   Texas ',\n",
       " 'North America   USA   Texas ',\n",
       " 'North America   USA   Texas ',\n",
       " 'North America   USA   Texas ',\n",
       " 'North America   USA   Texas ',\n",
       " 'North America   USA   Montana',\n",
       " 'Europe   Germany ',\n",
       " 'Europe   Germany ',\n",
       " 'Europe   France ',\n",
       " 'Europe   France ',\n",
       " 'Europe   France ',\n",
       " 'Asia   Bangladesh ',\n",
       " 'Asia   Bangladesh ',\n",
       " 'Asia   Bangladesh ',\n",
       " 'Asia   Bangladesh ',\n",
       " 'Asia   India ',\n",
       " 'Asia   India ',\n",
       " 'Asia   India ',\n",
       " 'Europe   Belgium ',\n",
       " 'Europe   Belgium ',\n",
       " 'Europe   Belgium ',\n",
       " 'Europe   Belgium ',\n",
       " 'Europe   Belgium ',\n",
       " 'Europe   Belgium ',\n",
       " 'Europe   Belgium ',\n",
       " 'Europe   Belgium ',\n",
       " 'Europe   Austria',\n",
       " 'Africa   Egypt',\n",
       " 'Asia   China ',\n",
       " 'Asia   China ',\n",
       " 'Asia   China ',\n",
       " 'Asia   China ',\n",
       " 'Asia   Israel',\n",
       " 'Asia   Israel',\n",
       " 'Asia   Israel',\n",
       " 'Asia   Israel',\n",
       " 'Asia   Israel',\n",
       " 'Asia   Israel',\n",
       " 'Asia   Israel',\n",
       " 'Asia   Israel',\n",
       " 'Oceania   Australia ',\n",
       " 'Oceania   Australia ',\n",
       " 'Oceania   Australia ',\n",
       " 'Oceania   Australia ',\n",
       " 'Asia   China ',\n",
       " 'Asia   China ',\n",
       " 'Asia   China ',\n",
       " 'Asia   China ',\n",
       " 'Asia   China ',\n",
       " 'Asia   China ',\n",
       " 'Asia   China ',\n",
       " 'Asia   China ',\n",
       " 'Europe   Spain ',\n",
       " 'Europe   Spain ',\n",
       " 'Europe   Spain ',\n",
       " 'Europe   Spain ',\n",
       " 'Europe   Spain ',\n",
       " 'Europe   Spain ',\n",
       " 'Europe   Spain ',\n",
       " 'Europe   Spain ',\n",
       " 'Asia   Bangladesh ',\n",
       " 'Europe   Croatia ',\n",
       " 'Asia   Bangladesh ',\n",
       " 'Asia   Bangladesh ',\n",
       " 'Asia   Bangladesh ',\n",
       " 'Asia   Bangladesh ',\n",
       " 'Asia   Kuwait ',\n",
       " 'South America   Uruguay ',\n",
       " 'Europe   Belgium ',\n",
       " 'Asia   Hong Kong',\n",
       " 'Asia   Hong Kong',\n",
       " 'Asia   Hong Kong',\n",
       " 'Asia   Hong Kong',\n",
       " 'Asia   Hong Kong',\n",
       " 'Asia   Taiwan ',\n",
       " 'Asia   Malaysia ',\n",
       " 'Asia   India ',\n",
       " 'Asia   India ',\n",
       " 'Asia   India ',\n",
       " 'Asia   India ',\n",
       " 'Asia   Hong Kong',\n",
       " 'Asia   Japan ',\n",
       " 'Asia   Hong Kong',\n",
       " 'Asia   Hong Kong',\n",
       " 'Asia   Hong Kong',\n",
       " 'Asia   Japan ',\n",
       " 'Europe   Denmark ',\n",
       " 'Europe   Denmark ',\n",
       " 'Europe   Denmark ',\n",
       " 'Asia   Japan ',\n",
       " 'Asia   Japan ',\n",
       " 'Asia   Japan ',\n",
       " 'Europe   Austria ',\n",
       " 'Europe   Austria ',\n",
       " 'Europe   Austria ',\n",
       " 'Europe   Austria ',\n",
       " 'Europe   Austria ',\n",
       " 'Europe   Austria ',\n",
       " 'Europe   Austria ',\n",
       " 'Europe   Austria ',\n",
       " 'Europe   Austria ',\n",
       " 'Europe   Austria ',\n",
       " 'Asia   India ',\n",
       " 'Asia   India ',\n",
       " 'Asia   China ',\n",
       " 'Europe   Russia ',\n",
       " 'Asia   India ',\n",
       " 'Asia   India ',\n",
       " 'South America   Colombia ',\n",
       " 'South America   Colombia ',\n",
       " 'South America   Colombia ',\n",
       " 'South America   Colombia ',\n",
       " 'South America   Colombia ',\n",
       " 'South America   Colombia ',\n",
       " 'South America   Colombia ',\n",
       " 'Europe   Spain ',\n",
       " 'South America   Brazil ',\n",
       " 'North America   Mexico ',\n",
       " 'Asia   Iran ',\n",
       " 'Asia   Japan ',\n",
       " 'Asia   Japan ',\n",
       " 'Europe   Italy ',\n",
       " 'Europe   Italy ',\n",
       " 'Asia   Kuwait ',\n",
       " 'Asia   Kuwait ',\n",
       " 'Asia   Japan ',\n",
       " 'Europe   Belgium ',\n",
       " 'Asia   India ',\n",
       " 'Asia   India ',\n",
       " 'South America   Brazil ',\n",
       " 'Europe   Italy ',\n",
       " 'Asia   India ',\n",
       " 'Asia   Lebanon ',\n",
       " 'Europe   Italy ',\n",
       " 'Europe   France ',\n",
       " 'Asia   Taiwan ',\n",
       " 'Europe   Russia ',\n",
       " 'Europe   Russia ',\n",
       " 'Europe   Russia ',\n",
       " 'Europe   Russia ',\n",
       " 'Europe   Russia ',\n",
       " 'Europe   Russia ',\n",
       " 'Europe   Russia ',\n",
       " 'Asia   China ',\n",
       " 'Asia   China ',\n",
       " 'Asia   China ',\n",
       " 'Asia   China ',\n",
       " 'Asia   China ',\n",
       " 'Europe   Germany ',\n",
       " 'Europe   Turkey ',\n",
       " 'Asia   Taiwan ',\n",
       " 'Europe   France ',\n",
       " 'North America   USA   Puerto Rico',\n",
       " 'Africa   Nigeria ',\n",
       " 'Oceania   Guam',\n",
       " 'Asia   India ',\n",
       " 'South America   Brazil ']"
      ]
     },
     "execution_count": 34,
     "metadata": {},
     "output_type": "execute_result"
    }
   ],
   "source": [
    "#organizing the location based on the continent and country (For USA: continent,country, and state )\n",
    "Location = Data.location.str.split('/')\n",
    "listToStr_location = list()\n",
    "for i in range(len(Location)):  \n",
    "    if Location[i][1:2][0]!=' USA ':\n",
    "        Location[i] = Location[i][0:2]\n",
    "        listToStr_location. append(' '.join([str(elem) for elem in Location[i]]))\n",
    "    else:\n",
    "        Location[i] = Location[i][0:3]\n",
    "        listToStr_location. append(' '.join([str(elem) for elem in Location[i]]))\n",
    "listToStr_location"
   ]
  },
  {
   "cell_type": "code",
   "execution_count": 35,
   "metadata": {},
   "outputs": [
    {
     "data": {
      "text/html": [
       "<div>\n",
       "<style scoped>\n",
       "    .dataframe tbody tr th:only-of-type {\n",
       "        vertical-align: middle;\n",
       "    }\n",
       "\n",
       "    .dataframe tbody tr th {\n",
       "        vertical-align: top;\n",
       "    }\n",
       "\n",
       "    .dataframe thead th {\n",
       "        text-align: right;\n",
       "    }\n",
       "</style>\n",
       "<table border=\"1\" class=\"dataframe\">\n",
       "  <thead>\n",
       "    <tr style=\"text-align: right;\">\n",
       "      <th></th>\n",
       "      <th>location</th>\n",
       "      <th>gender</th>\n",
       "      <th>age</th>\n",
       "      <th>status</th>\n",
       "    </tr>\n",
       "  </thead>\n",
       "  <tbody>\n",
       "    <tr>\n",
       "      <th>0</th>\n",
       "      <td>Oceania   Australia</td>\n",
       "      <td>male</td>\n",
       "      <td>53</td>\n",
       "      <td>Recovered</td>\n",
       "    </tr>\n",
       "    <tr>\n",
       "      <th>1</th>\n",
       "      <td>Oceania   Australia</td>\n",
       "      <td>Female</td>\n",
       "      <td>21</td>\n",
       "      <td>Recovered</td>\n",
       "    </tr>\n",
       "    <tr>\n",
       "      <th>2</th>\n",
       "      <td>Asia   Georgia</td>\n",
       "      <td>Female</td>\n",
       "      <td>31, 6 month</td>\n",
       "      <td>Hospitalized</td>\n",
       "    </tr>\n",
       "    <tr>\n",
       "      <th>3</th>\n",
       "      <td>Asia   Georgia</td>\n",
       "      <td>Male</td>\n",
       "      <td>59, 1 months</td>\n",
       "      <td>Hospitalized</td>\n",
       "    </tr>\n",
       "    <tr>\n",
       "      <th>4</th>\n",
       "      <td>Asia   Georgia</td>\n",
       "      <td>Male</td>\n",
       "      <td>33.5</td>\n",
       "      <td>Hospitalized</td>\n",
       "    </tr>\n",
       "    <tr>\n",
       "      <th>...</th>\n",
       "      <td>...</td>\n",
       "      <td>...</td>\n",
       "      <td>...</td>\n",
       "      <td>...</td>\n",
       "    </tr>\n",
       "    <tr>\n",
       "      <th>199</th>\n",
       "      <td>North America   USA   Puerto Rico</td>\n",
       "      <td>unknown</td>\n",
       "      <td>unknown</td>\n",
       "      <td>Asymptomatic</td>\n",
       "    </tr>\n",
       "    <tr>\n",
       "      <th>200</th>\n",
       "      <td>Africa   Nigeria</td>\n",
       "      <td>Female</td>\n",
       "      <td>30</td>\n",
       "      <td>Not Hospitalized</td>\n",
       "    </tr>\n",
       "    <tr>\n",
       "      <th>201</th>\n",
       "      <td>Oceania   Guam</td>\n",
       "      <td>Male</td>\n",
       "      <td>62</td>\n",
       "      <td>Outpatient</td>\n",
       "    </tr>\n",
       "    <tr>\n",
       "      <th>202</th>\n",
       "      <td>Asia   India</td>\n",
       "      <td>Female</td>\n",
       "      <td>63</td>\n",
       "      <td>Mild</td>\n",
       "    </tr>\n",
       "    <tr>\n",
       "      <th>203</th>\n",
       "      <td>South America   Brazil</td>\n",
       "      <td>Female</td>\n",
       "      <td>52</td>\n",
       "      <td>Hospitalized in ICU</td>\n",
       "    </tr>\n",
       "  </tbody>\n",
       "</table>\n",
       "<p>204 rows × 4 columns</p>\n",
       "</div>"
      ],
      "text/plain": [
       "                              location   gender           age  \\\n",
       "0                 Oceania   Australia      male            53   \n",
       "1                 Oceania   Australia    Female            21   \n",
       "2                      Asia   Georgia    Female   31, 6 month   \n",
       "3                      Asia   Georgia      Male  59, 1 months   \n",
       "4                      Asia   Georgia      Male          33.5   \n",
       "..                                 ...      ...           ...   \n",
       "199  North America   USA   Puerto Rico  unknown       unknown   \n",
       "200                  Africa   Nigeria    Female            30   \n",
       "201                     Oceania   Guam     Male            62   \n",
       "202                      Asia   India    Female            63   \n",
       "203            South America   Brazil    Female            52   \n",
       "\n",
       "                  status  \n",
       "0              Recovered  \n",
       "1              Recovered  \n",
       "2           Hospitalized  \n",
       "3           Hospitalized  \n",
       "4           Hospitalized  \n",
       "..                   ...  \n",
       "199         Asymptomatic  \n",
       "200     Not Hospitalized  \n",
       "201           Outpatient  \n",
       "202                 Mild  \n",
       "203  Hospitalized in ICU  \n",
       "\n",
       "[204 rows x 4 columns]"
      ]
     },
     "execution_count": 35,
     "metadata": {},
     "output_type": "execute_result"
    }
   ],
   "source": [
    "Data.location =listToStr_location\n",
    "Data.groupby('location')\n",
    "Data"
   ]
  },
  {
   "cell_type": "code",
   "execution_count": 36,
   "metadata": {},
   "outputs": [],
   "source": [
    "#replacing the age that were in months to year\n",
    "Data['age'] = Data['age'].str.replace('months','')\n",
    "Data['age'] = Data['age'].str.replace('month','')\n",
    "\n",
    "for i in range(1,len(Data)):\n",
    "    index_1 = Data.age[i].find(',') \n",
    "    index_2 = Data.age[i].find('-') \n",
    "    index_3 = Data.age[i].find('unknown') \n",
    "    if index_1!=-1:\n",
    "        Data.age[i] = Data.age[i][:index_1]\n",
    "        Data.age[i] = int(float(Data.age[i])/12)\n",
    "    if index_2!=-1:\n",
    "        Data.age[i] = int((float(Data.age[i][index_2+1:])+float(Data.age[i][:index_2]))/2)\n",
    "    if index_3!=-1:\n",
    "        Data.age[i] = 'NaN'\n"
   ]
  },
  {
   "cell_type": "code",
   "execution_count": 37,
   "metadata": {},
   "outputs": [],
   "source": [
    "#deleting the >, 's and s from age\n",
    "Data['age'] = Data['age'].str.replace('>','')\n",
    "Data['age'] = Data['age'].str.replace('s','')\n",
    "Data['age'] = Data['age'].str.replace(\"'\",'')"
   ]
  },
  {
   "cell_type": "code",
   "execution_count": 38,
   "metadata": {},
   "outputs": [],
   "source": [
    "Data.replace(['female','Female'],value= ['Female','Female'], inplace=True)\n",
    "Data.replace(['male','Male'],value= ['Male','Male'], inplace=True)        "
   ]
  },
  {
   "cell_type": "code",
   "execution_count": 39,
   "metadata": {},
   "outputs": [],
   "source": [
    "#the unknown gender is set to missing category\n",
    "for i in range(1,len(Data)):\n",
    "    index_4 = Data.gender[i].find('unknown') \n",
    "    if index_4!=-1:\n",
    "        Data.gender[i] = 'missing'\n"
   ]
  },
  {
   "cell_type": "code",
   "execution_count": 40,
   "metadata": {},
   "outputs": [],
   "source": [
    "#Labeling\n",
    "Data.replace(['Deceased'],value= [1], inplace=True)\n",
    "Data.status[Data['status'] != 1]=0"
   ]
  },
  {
   "cell_type": "code",
   "execution_count": 41,
   "metadata": {},
   "outputs": [
    {
     "data": {
      "text/html": [
       "<div>\n",
       "<style scoped>\n",
       "    .dataframe tbody tr th:only-of-type {\n",
       "        vertical-align: middle;\n",
       "    }\n",
       "\n",
       "    .dataframe tbody tr th {\n",
       "        vertical-align: top;\n",
       "    }\n",
       "\n",
       "    .dataframe thead th {\n",
       "        text-align: right;\n",
       "    }\n",
       "</style>\n",
       "<table border=\"1\" class=\"dataframe\">\n",
       "  <thead>\n",
       "    <tr style=\"text-align: right;\">\n",
       "      <th></th>\n",
       "      <th>location</th>\n",
       "      <th>gender</th>\n",
       "      <th>age</th>\n",
       "      <th>status</th>\n",
       "    </tr>\n",
       "  </thead>\n",
       "  <tbody>\n",
       "  </tbody>\n",
       "</table>\n",
       "</div>"
      ],
      "text/plain": [
       "Empty DataFrame\n",
       "Columns: [location, gender, age, status]\n",
       "Index: []"
      ]
     },
     "execution_count": 41,
     "metadata": {},
     "output_type": "execute_result"
    }
   ],
   "source": [
    "#Finding unknown data\n",
    "Data.loc[Data['gender']=='unknown']"
   ]
  },
  {
   "cell_type": "code",
   "execution_count": 42,
   "metadata": {
    "scrolled": true
   },
   "outputs": [
    {
     "data": {
      "text/html": [
       "<div>\n",
       "<style scoped>\n",
       "    .dataframe tbody tr th:only-of-type {\n",
       "        vertical-align: middle;\n",
       "    }\n",
       "\n",
       "    .dataframe tbody tr th {\n",
       "        vertical-align: top;\n",
       "    }\n",
       "\n",
       "    .dataframe thead th {\n",
       "        text-align: right;\n",
       "    }\n",
       "</style>\n",
       "<table border=\"1\" class=\"dataframe\">\n",
       "  <thead>\n",
       "    <tr style=\"text-align: right;\">\n",
       "      <th></th>\n",
       "      <th>location_Africa   Egypt</th>\n",
       "      <th>location_Africa   Nigeria</th>\n",
       "      <th>location_Asia   Bangladesh</th>\n",
       "      <th>location_Asia   China</th>\n",
       "      <th>location_Asia   Georgia</th>\n",
       "      <th>location_Asia   Hong Kong</th>\n",
       "      <th>location_Asia   India</th>\n",
       "      <th>location_Asia   Iran</th>\n",
       "      <th>location_Asia   Israel</th>\n",
       "      <th>location_Asia   Japan</th>\n",
       "      <th>...</th>\n",
       "      <th>location_Oceania   New Zealand</th>\n",
       "      <th>location_South America   Brazil</th>\n",
       "      <th>location_South America   Colombia</th>\n",
       "      <th>location_South America   Ecuador</th>\n",
       "      <th>location_South America   Uruguay</th>\n",
       "      <th>gender_Female</th>\n",
       "      <th>gender_Male</th>\n",
       "      <th>gender_missing</th>\n",
       "      <th>age</th>\n",
       "      <th>status</th>\n",
       "    </tr>\n",
       "  </thead>\n",
       "  <tbody>\n",
       "    <tr>\n",
       "      <th>0</th>\n",
       "      <td>0</td>\n",
       "      <td>0</td>\n",
       "      <td>0</td>\n",
       "      <td>0</td>\n",
       "      <td>0</td>\n",
       "      <td>0</td>\n",
       "      <td>0</td>\n",
       "      <td>0</td>\n",
       "      <td>0</td>\n",
       "      <td>0</td>\n",
       "      <td>...</td>\n",
       "      <td>0</td>\n",
       "      <td>0</td>\n",
       "      <td>0</td>\n",
       "      <td>0</td>\n",
       "      <td>0</td>\n",
       "      <td>0</td>\n",
       "      <td>1</td>\n",
       "      <td>0</td>\n",
       "      <td>53</td>\n",
       "      <td>0</td>\n",
       "    </tr>\n",
       "    <tr>\n",
       "      <th>1</th>\n",
       "      <td>0</td>\n",
       "      <td>0</td>\n",
       "      <td>0</td>\n",
       "      <td>0</td>\n",
       "      <td>0</td>\n",
       "      <td>0</td>\n",
       "      <td>0</td>\n",
       "      <td>0</td>\n",
       "      <td>0</td>\n",
       "      <td>0</td>\n",
       "      <td>...</td>\n",
       "      <td>0</td>\n",
       "      <td>0</td>\n",
       "      <td>0</td>\n",
       "      <td>0</td>\n",
       "      <td>0</td>\n",
       "      <td>1</td>\n",
       "      <td>0</td>\n",
       "      <td>0</td>\n",
       "      <td>21</td>\n",
       "      <td>0</td>\n",
       "    </tr>\n",
       "    <tr>\n",
       "      <th>2</th>\n",
       "      <td>0</td>\n",
       "      <td>0</td>\n",
       "      <td>0</td>\n",
       "      <td>0</td>\n",
       "      <td>1</td>\n",
       "      <td>0</td>\n",
       "      <td>0</td>\n",
       "      <td>0</td>\n",
       "      <td>0</td>\n",
       "      <td>0</td>\n",
       "      <td>...</td>\n",
       "      <td>0</td>\n",
       "      <td>0</td>\n",
       "      <td>0</td>\n",
       "      <td>0</td>\n",
       "      <td>0</td>\n",
       "      <td>1</td>\n",
       "      <td>0</td>\n",
       "      <td>0</td>\n",
       "      <td>NaN</td>\n",
       "      <td>0</td>\n",
       "    </tr>\n",
       "    <tr>\n",
       "      <th>3</th>\n",
       "      <td>0</td>\n",
       "      <td>0</td>\n",
       "      <td>0</td>\n",
       "      <td>0</td>\n",
       "      <td>1</td>\n",
       "      <td>0</td>\n",
       "      <td>0</td>\n",
       "      <td>0</td>\n",
       "      <td>0</td>\n",
       "      <td>0</td>\n",
       "      <td>...</td>\n",
       "      <td>0</td>\n",
       "      <td>0</td>\n",
       "      <td>0</td>\n",
       "      <td>0</td>\n",
       "      <td>0</td>\n",
       "      <td>0</td>\n",
       "      <td>1</td>\n",
       "      <td>0</td>\n",
       "      <td>NaN</td>\n",
       "      <td>0</td>\n",
       "    </tr>\n",
       "    <tr>\n",
       "      <th>4</th>\n",
       "      <td>0</td>\n",
       "      <td>0</td>\n",
       "      <td>0</td>\n",
       "      <td>0</td>\n",
       "      <td>1</td>\n",
       "      <td>0</td>\n",
       "      <td>0</td>\n",
       "      <td>0</td>\n",
       "      <td>0</td>\n",
       "      <td>0</td>\n",
       "      <td>...</td>\n",
       "      <td>0</td>\n",
       "      <td>0</td>\n",
       "      <td>0</td>\n",
       "      <td>0</td>\n",
       "      <td>0</td>\n",
       "      <td>0</td>\n",
       "      <td>1</td>\n",
       "      <td>0</td>\n",
       "      <td>33.5</td>\n",
       "      <td>0</td>\n",
       "    </tr>\n",
       "  </tbody>\n",
       "</table>\n",
       "<p>5 rows × 43 columns</p>\n",
       "</div>"
      ],
      "text/plain": [
       "   location_Africa   Egypt  location_Africa   Nigeria   \\\n",
       "0                        0                           0   \n",
       "1                        0                           0   \n",
       "2                        0                           0   \n",
       "3                        0                           0   \n",
       "4                        0                           0   \n",
       "\n",
       "   location_Asia   Bangladesh   location_Asia   China   \\\n",
       "0                            0                       0   \n",
       "1                            0                       0   \n",
       "2                            0                       0   \n",
       "3                            0                       0   \n",
       "4                            0                       0   \n",
       "\n",
       "   location_Asia   Georgia   location_Asia   Hong Kong  \\\n",
       "0                         0                          0   \n",
       "1                         0                          0   \n",
       "2                         1                          0   \n",
       "3                         1                          0   \n",
       "4                         1                          0   \n",
       "\n",
       "   location_Asia   India   location_Asia   Iran   location_Asia   Israel  \\\n",
       "0                       0                      0                       0   \n",
       "1                       0                      0                       0   \n",
       "2                       0                      0                       0   \n",
       "3                       0                      0                       0   \n",
       "4                       0                      0                       0   \n",
       "\n",
       "   location_Asia   Japan   ...  location_Oceania   New Zealand   \\\n",
       "0                       0  ...                                0   \n",
       "1                       0  ...                                0   \n",
       "2                       0  ...                                0   \n",
       "3                       0  ...                                0   \n",
       "4                       0  ...                                0   \n",
       "\n",
       "   location_South America   Brazil   location_South America   Colombia   \\\n",
       "0                                 0                                   0   \n",
       "1                                 0                                   0   \n",
       "2                                 0                                   0   \n",
       "3                                 0                                   0   \n",
       "4                                 0                                   0   \n",
       "\n",
       "   location_South America   Ecuador   location_South America   Uruguay   \\\n",
       "0                                  0                                  0   \n",
       "1                                  0                                  0   \n",
       "2                                  0                                  0   \n",
       "3                                  0                                  0   \n",
       "4                                  0                                  0   \n",
       "\n",
       "   gender_Female  gender_Male  gender_missing   age  status  \n",
       "0              0            1               0    53       0  \n",
       "1              1            0               0    21       0  \n",
       "2              1            0               0   NaN       0  \n",
       "3              0            1               0   NaN       0  \n",
       "4              0            1               0  33.5       0  \n",
       "\n",
       "[5 rows x 43 columns]"
      ]
     },
     "execution_count": 42,
     "metadata": {},
     "output_type": "execute_result"
    }
   ],
   "source": [
    "#using dummies instead of location data for ML input\n",
    "Data_model = pd.concat([pd.get_dummies(Data[['location']]),pd.get_dummies(Data[['gender']]), Data[['age','status']]], axis=1)\n",
    "Data_model.head()"
   ]
  },
  {
   "cell_type": "code",
   "execution_count": 43,
   "metadata": {},
   "outputs": [
    {
     "data": {
      "text/plain": [
       "0    172\n",
       "1     32\n",
       "Name: status, dtype: int64"
      ]
     },
     "execution_count": 43,
     "metadata": {},
     "output_type": "execute_result"
    }
   ],
   "source": [
    "#checking the balance in the data\n",
    "Data_model['status'].value_counts()"
   ]
  },
  {
   "cell_type": "markdown",
   "metadata": {},
   "source": [
    "# Logistic regression model"
   ]
  },
  {
   "cell_type": "code",
   "execution_count": 44,
   "metadata": {},
   "outputs": [
    {
     "data": {
      "text/plain": [
       "0    172\n",
       "1     32\n",
       "Name: status, dtype: int64"
      ]
     },
     "execution_count": 44,
     "metadata": {},
     "output_type": "execute_result"
    }
   ],
   "source": [
    "#Separating target (label) data\n",
    "X = Data_model.drop('status',axis=1).astype(float)\n",
    "y = Data_model.status\n",
    "y=y.astype(int)\n",
    "y.value_counts()\n"
   ]
  },
  {
   "cell_type": "code",
   "execution_count": 45,
   "metadata": {},
   "outputs": [],
   "source": [
    "#splitting features and the label: 20% test data and 80% assigned to training data\n",
    "# split into train/test sets with same class ratio\n",
    "from sklearn.model_selection import KFold, cross_val_score, train_test_split\n",
    "X_train, X_test, y_train, y_test = train_test_split(X, y, test_size=0.2, random_state=5, stratify=y)"
   ]
  },
  {
   "cell_type": "markdown",
   "metadata": {},
   "source": [
    "### Imputing the unknown data using KNN"
   ]
  },
  {
   "cell_type": "code",
   "execution_count": 46,
   "metadata": {},
   "outputs": [
    {
     "name": "stderr",
     "output_type": "stream",
     "text": [
      "C:\\Users\\Azadeh\\Anaconda3\\lib\\site-packages\\ipykernel_launcher.py:4: SettingWithCopyWarning: \n",
      "A value is trying to be set on a copy of a slice from a DataFrame.\n",
      "Try using .loc[row_indexer,col_indexer] = value instead\n",
      "\n",
      "See the caveats in the documentation: https://pandas.pydata.org/pandas-docs/stable/user_guide/indexing.html#returning-a-view-versus-a-copy\n",
      "  after removing the cwd from sys.path.\n",
      "C:\\Users\\Azadeh\\Anaconda3\\lib\\site-packages\\ipykernel_launcher.py:5: SettingWithCopyWarning: \n",
      "A value is trying to be set on a copy of a slice from a DataFrame.\n",
      "Try using .loc[row_indexer,col_indexer] = value instead\n",
      "\n",
      "See the caveats in the documentation: https://pandas.pydata.org/pandas-docs/stable/user_guide/indexing.html#returning-a-view-versus-a-copy\n",
      "  \"\"\"\n"
     ]
    }
   ],
   "source": [
    "from sklearn.impute import KNNImputer\n",
    "imputer = KNNImputer(n_neighbors=5, weights=\"uniform\")\n",
    "imputer.fit(X_train[['age']])\n",
    "X_train['age']=imputer.transform(X_train[['age']])\n",
    "X_test['age']=imputer.transform(X_test[['age']])"
   ]
  },
  {
   "cell_type": "markdown",
   "metadata": {},
   "source": [
    "### Dimension reduction using PCA"
   ]
  },
  {
   "cell_type": "markdown",
   "metadata": {},
   "source": [
    "#### from sklearn.decomposition import PCA, KernelPCA\n",
    "pca = PCA()\n",
    "pca.fit(X_train)\n",
    "X_train = pca.transform(X_train)\n",
    "X_test = pca.transform(X_test)"
   ]
  },
  {
   "cell_type": "markdown",
   "metadata": {},
   "source": [
    "### Balancing the data"
   ]
  },
  {
   "cell_type": "code",
   "execution_count": 47,
   "metadata": {},
   "outputs": [
    {
     "name": "stderr",
     "output_type": "stream",
     "text": [
      "C:\\Users\\Azadeh\\Anaconda3\\lib\\site-packages\\sklearn\\utils\\deprecation.py:87: FutureWarning: Function safe_indexing is deprecated; safe_indexing is deprecated in version 0.22 and will be removed in version 0.24.\n",
      "  warnings.warn(msg, category=FutureWarning)\n",
      "C:\\Users\\Azadeh\\Anaconda3\\lib\\site-packages\\sklearn\\utils\\deprecation.py:87: FutureWarning: Function safe_indexing is deprecated; safe_indexing is deprecated in version 0.22 and will be removed in version 0.24.\n",
      "  warnings.warn(msg, category=FutureWarning)\n"
     ]
    }
   ],
   "source": [
    "#balancing the data\n",
    "from imblearn.over_sampling import RandomOverSampler\n",
    "from imblearn.under_sampling import RandomUnderSampler\n",
    "# define oversampling strategy\n",
    "over = RandomOverSampler(sampling_strategy='minority')\n",
    "# fit and apply the transform\n",
    "X_train, y_train = over.fit_resample(X_train, y_train)\n",
    "# define undersampling strategy\n",
    "under = RandomUnderSampler(sampling_strategy='majority')\n",
    "# fit and apply the transform\n",
    "X_train, y_train = under.fit_resample(X_train, y_train)\n"
   ]
  },
  {
   "cell_type": "markdown",
   "metadata": {},
   "source": [
    "### Scaling the data"
   ]
  },
  {
   "cell_type": "code",
   "execution_count": 48,
   "metadata": {},
   "outputs": [],
   "source": [
    "#Scaling the data to standarize them\n",
    "#Here caling reduced the iteration number from 200 to 50\n",
    "from sklearn.preprocessing import StandardScaler\n",
    "sc = StandardScaler()\n",
    "sc.fit(X_train)\n",
    "X_train = sc.transform(X_train)\n",
    "X_test = sc.transform(X_test)"
   ]
  },
  {
   "cell_type": "code",
   "execution_count": 49,
   "metadata": {},
   "outputs": [
    {
     "data": {
      "text/plain": [
       "LogisticRegression(C=1, class_weight=None, dual=False, fit_intercept=True,\n",
       "                   intercept_scaling=1, l1_ratio=None, max_iter=200,\n",
       "                   multi_class='auto', n_jobs=1, penalty='l2',\n",
       "                   random_state=None, solver='lbfgs', tol=0.0001, verbose=0,\n",
       "                   warm_start=False)"
      ]
     },
     "execution_count": 49,
     "metadata": {},
     "output_type": "execute_result"
    }
   ],
   "source": [
    "#fitting the model and get the conversion probabilities. \n",
    "#predit_proba() function of our model assigns probability for each row:\n",
    "from sklearn.linear_model import LogisticRegression\n",
    "model = LogisticRegression(solver='lbfgs', penalty='l2',C= 1, max_iter=200, n_jobs=1, tol=0.0001)\n",
    "model.fit(X_train,y_train)"
   ]
  },
  {
   "cell_type": "code",
   "execution_count": 27,
   "metadata": {},
   "outputs": [
    {
     "data": {
      "image/png": "[encoded data removed]",
      "text/plain": [
       "<Figure size 720x504 with 1 Axes>"
      ]
     },
     "metadata": {
      "needs_background": "light"
     },
     "output_type": "display_data"
    }
   ],
   "source": [
    "from sklearn.ensemble import  RandomForestRegressor\n",
    "model_RFR = RandomForestRegressor(max_depth=10)\n",
    "\n",
    "# fit the model with the training data\n",
    "model_RFR.fit(X_train, y_train)\n",
    "\n",
    "# predict the target on train and test data\n",
    "predict_train = model_RFR.predict(X_train)\n",
    "predict_test = model_RFR.predict(X_test)\n",
    "plt.figure(figsize=(10,7))\n",
    "feat_importances = pd.Series(model_RFR.feature_importances_, index = X.columns)\n",
    "feat_importances.nlargest(7).plot(kind='barh');"
   ]
  },
  {
   "cell_type": "code",
   "execution_count": 52,
   "metadata": {},
   "outputs": [
    {
     "name": "stdout",
     "output_type": "stream",
     "text": [
      "Feature: 0, Score: -0.11976\n",
      "Feature: 1, Score: -0.15185\n",
      "Feature: 2, Score: -0.47978\n",
      "Feature: 3, Score: -0.84129\n",
      "Feature: 4, Score: -0.28564\n",
      "Feature: 5, Score: -0.62535\n",
      "Feature: 6, Score: -0.11150\n",
      "Feature: 7, Score: -0.23551\n",
      "Feature: 8, Score: -0.53965\n",
      "Feature: 9, Score: -0.48178\n",
      "Feature: 10, Score: -0.27316\n",
      "Feature: 11, Score: 0.00000\n",
      "Feature: 12, Score: -0.21489\n",
      "Feature: 13, Score: -0.25529\n",
      "Feature: 14, Score: -0.24943\n",
      "Feature: 15, Score: -0.20813\n",
      "Feature: 16, Score: 0.41065\n",
      "Feature: 17, Score: 1.44337\n",
      "Feature: 18, Score: 0.82827\n",
      "Feature: 19, Score: -0.25640\n",
      "Feature: 20, Score: -0.25573\n",
      "Feature: 21, Score: -0.94168\n",
      "Feature: 22, Score: -0.35499\n",
      "Feature: 23, Score: -0.35036\n",
      "Feature: 24, Score: 1.05009\n",
      "Feature: 25, Score: 0.41909\n",
      "Feature: 26, Score: 0.57651\n",
      "Feature: 27, Score: -0.15602\n",
      "Feature: 28, Score: -0.22856\n",
      "Feature: 29, Score: -0.14043\n",
      "Feature: 30, Score: -0.55375\n",
      "Feature: 31, Score: -0.37037\n",
      "Feature: 32, Score: 0.00000\n",
      "Feature: 33, Score: -0.21721\n",
      "Feature: 34, Score: -0.53017\n",
      "Feature: 35, Score: -0.44834\n",
      "Feature: 36, Score: -0.19254\n",
      "Feature: 37, Score: -0.19810\n",
      "Feature: 38, Score: -0.09574\n",
      "Feature: 39, Score: 0.11750\n",
      "Feature: 40, Score: -0.12756\n",
      "Feature: 41, Score: 1.00451\n"
     ]
    },
    {
     "data": {
      "image/png": "[encoded data removed]",
      "text/plain": [
       "<Figure size 432x288 with 1 Axes>"
      ]
     },
     "metadata": {
      "needs_background": "light"
     },
     "output_type": "display_data"
    }
   ],
   "source": [
    "## Regression feature importance\n",
    "import matplotlib.pyplot as plt\n",
    "# get feature importance\n",
    "importance = model.coef_[0]\n",
    "# summarize feature importance\n",
    "for i,v in enumerate(importance):\n",
    "\tprint('Feature: %0d, Score: %.5f' % (i,v))\n",
    "#plot feature importance\n",
    "plt.bar(X.columns, importance)\n",
    "plt.show()"
   ]
  },
  {
   "cell_type": "code",
   "execution_count": 50,
   "metadata": {},
   "outputs": [
    {
     "name": "stdout",
     "output_type": "stream",
     "text": [
      "R^2 _train= 0.9343065693430657\n",
      "R^2 _test= 0.975609756097561\n"
     ]
    }
   ],
   "source": [
    "#prediction results\n",
    "y_hat = model.predict(X_test)\n",
    "lr_probs = model.predict_proba(X_test)\n",
    "#Return the mean accuracy on the given test data and taraining data to see if we have overfitting.score clculates R^2\n",
    "print('R^2 _train=',model.score(X_train, y_train))\n",
    "print('R^2 _test=',model.score(X_test, y_test))"
   ]
  },
  {
   "cell_type": "markdown",
   "metadata": {},
   "source": [
    "### Cross validation "
   ]
  },
  {
   "cell_type": "code",
   "execution_count": 51,
   "metadata": {},
   "outputs": [
    {
     "name": "stdout",
     "output_type": "stream",
     "text": [
      "Cross-Validation Accuracy Scores [0.92857143 0.92857143 0.92857143 0.92857143 0.88888889 0.96296296\n",
      " 0.96296296 0.92592593 0.88888889 0.88888889]\n",
      "CV-scores_min =  0.8888888888888888\n",
      "CV_scores_mean = 0.9232804232804233\n",
      "CV_scores_max = 0.9629629629629629\n"
     ]
    }
   ],
   "source": [
    "#Cross validation\n",
    "from sklearn.model_selection import cross_val_score\n",
    "\n",
    "scores = cross_val_score(model, X_train, y_train, cv=10)\n",
    "print('Cross-Validation Accuracy Scores', scores)\n",
    "scores = pd.Series(scores)\n",
    "print('CV-scores_min = ',scores.min())\n",
    "print('CV_scores_mean =', scores.mean())\n",
    "print('CV_scores_max =', scores.max())"
   ]
  },
  {
   "cell_type": "code",
   "execution_count": 52,
   "metadata": {},
   "outputs": [
    {
     "data": {
      "text/html": [
       "<div>\n",
       "<style scoped>\n",
       "    .dataframe tbody tr th:only-of-type {\n",
       "        vertical-align: middle;\n",
       "    }\n",
       "\n",
       "    .dataframe tbody tr th {\n",
       "        vertical-align: top;\n",
       "    }\n",
       "\n",
       "    .dataframe thead th {\n",
       "        text-align: right;\n",
       "    }\n",
       "</style>\n",
       "<table border=\"1\" class=\"dataframe\">\n",
       "  <thead>\n",
       "    <tr style=\"text-align: right;\">\n",
       "      <th></th>\n",
       "      <th>Actual</th>\n",
       "      <th>Predicted</th>\n",
       "    </tr>\n",
       "  </thead>\n",
       "  <tbody>\n",
       "    <tr>\n",
       "      <th>135</th>\n",
       "      <td>0</td>\n",
       "      <td>0</td>\n",
       "    </tr>\n",
       "    <tr>\n",
       "      <th>42</th>\n",
       "      <td>0</td>\n",
       "      <td>0</td>\n",
       "    </tr>\n",
       "    <tr>\n",
       "      <th>45</th>\n",
       "      <td>0</td>\n",
       "      <td>0</td>\n",
       "    </tr>\n",
       "    <tr>\n",
       "      <th>90</th>\n",
       "      <td>0</td>\n",
       "      <td>0</td>\n",
       "    </tr>\n",
       "    <tr>\n",
       "      <th>116</th>\n",
       "      <td>0</td>\n",
       "      <td>0</td>\n",
       "    </tr>\n",
       "    <tr>\n",
       "      <th>83</th>\n",
       "      <td>0</td>\n",
       "      <td>0</td>\n",
       "    </tr>\n",
       "    <tr>\n",
       "      <th>126</th>\n",
       "      <td>0</td>\n",
       "      <td>0</td>\n",
       "    </tr>\n",
       "    <tr>\n",
       "      <th>123</th>\n",
       "      <td>0</td>\n",
       "      <td>0</td>\n",
       "    </tr>\n",
       "    <tr>\n",
       "      <th>190</th>\n",
       "      <td>0</td>\n",
       "      <td>0</td>\n",
       "    </tr>\n",
       "    <tr>\n",
       "      <th>143</th>\n",
       "      <td>1</td>\n",
       "      <td>1</td>\n",
       "    </tr>\n",
       "    <tr>\n",
       "      <th>125</th>\n",
       "      <td>0</td>\n",
       "      <td>0</td>\n",
       "    </tr>\n",
       "    <tr>\n",
       "      <th>179</th>\n",
       "      <td>0</td>\n",
       "      <td>0</td>\n",
       "    </tr>\n",
       "    <tr>\n",
       "      <th>188</th>\n",
       "      <td>1</td>\n",
       "      <td>1</td>\n",
       "    </tr>\n",
       "    <tr>\n",
       "      <th>153</th>\n",
       "      <td>0</td>\n",
       "      <td>0</td>\n",
       "    </tr>\n",
       "    <tr>\n",
       "      <th>170</th>\n",
       "      <td>0</td>\n",
       "      <td>0</td>\n",
       "    </tr>\n",
       "    <tr>\n",
       "      <th>59</th>\n",
       "      <td>0</td>\n",
       "      <td>0</td>\n",
       "    </tr>\n",
       "    <tr>\n",
       "      <th>67</th>\n",
       "      <td>1</td>\n",
       "      <td>1</td>\n",
       "    </tr>\n",
       "    <tr>\n",
       "      <th>27</th>\n",
       "      <td>0</td>\n",
       "      <td>0</td>\n",
       "    </tr>\n",
       "    <tr>\n",
       "      <th>7</th>\n",
       "      <td>0</td>\n",
       "      <td>0</td>\n",
       "    </tr>\n",
       "    <tr>\n",
       "      <th>0</th>\n",
       "      <td>0</td>\n",
       "      <td>0</td>\n",
       "    </tr>\n",
       "    <tr>\n",
       "      <th>182</th>\n",
       "      <td>0</td>\n",
       "      <td>0</td>\n",
       "    </tr>\n",
       "    <tr>\n",
       "      <th>112</th>\n",
       "      <td>0</td>\n",
       "      <td>0</td>\n",
       "    </tr>\n",
       "    <tr>\n",
       "      <th>118</th>\n",
       "      <td>0</td>\n",
       "      <td>0</td>\n",
       "    </tr>\n",
       "    <tr>\n",
       "      <th>189</th>\n",
       "      <td>1</td>\n",
       "      <td>1</td>\n",
       "    </tr>\n",
       "    <tr>\n",
       "      <th>96</th>\n",
       "      <td>0</td>\n",
       "      <td>0</td>\n",
       "    </tr>\n",
       "  </tbody>\n",
       "</table>\n",
       "</div>"
      ],
      "text/plain": [
       "     Actual  Predicted\n",
       "135       0          0\n",
       "42        0          0\n",
       "45        0          0\n",
       "90        0          0\n",
       "116       0          0\n",
       "83        0          0\n",
       "126       0          0\n",
       "123       0          0\n",
       "190       0          0\n",
       "143       1          1\n",
       "125       0          0\n",
       "179       0          0\n",
       "188       1          1\n",
       "153       0          0\n",
       "170       0          0\n",
       "59        0          0\n",
       "67        1          1\n",
       "27        0          0\n",
       "7         0          0\n",
       "0         0          0\n",
       "182       0          0\n",
       "112       0          0\n",
       "118       0          0\n",
       "189       1          1\n",
       "96        0          0"
      ]
     },
     "execution_count": 52,
     "metadata": {},
     "output_type": "execute_result"
    }
   ],
   "source": [
    "df = pd.DataFrame({'Actual': y_test, 'Predicted': y_hat})\n",
    "df.head(25)"
   ]
  },
  {
   "cell_type": "markdown",
   "metadata": {},
   "source": [
    "### Performance measurement metrics"
   ]
  },
  {
   "cell_type": "code",
   "execution_count": 53,
   "metadata": {},
   "outputs": [
    {
     "name": "stdout",
     "output_type": "stream",
     "text": [
      "Mean Absolute Error: 0.024390243902439025\n",
      "Mean Squared Error: 0.024390243902439025\n",
      "Root Mean Squared Error: 0.15617376188860607\n"
     ]
    }
   ],
   "source": [
    "import sklearn.metrics as metrics\n",
    "print('Mean Absolute Error:', metrics.mean_absolute_error(y_test, y_hat))  \n",
    "print('Mean Squared Error:', metrics.mean_squared_error(y_test, y_hat))  \n",
    "print('Root Mean Squared Error:', np.sqrt(metrics.mean_squared_error(y_test, y_hat)))"
   ]
  },
  {
   "cell_type": "code",
   "execution_count": 54,
   "metadata": {},
   "outputs": [],
   "source": [
    "from sklearn.metrics import precision_recall_curve\n",
    "# calculate precision-recall curve\n",
    "precision, recall, thresholds = precision_recall_curve(y_test, y_hat)"
   ]
  },
  {
   "cell_type": "code",
   "execution_count": 55,
   "metadata": {},
   "outputs": [
    {
     "name": "stdout",
     "output_type": "stream",
     "text": [
      "f1 score = 0.9090909090909091\n"
     ]
    }
   ],
   "source": [
    "from sklearn.metrics import f1_score\n",
    "# calculate F1 score\n",
    "f1 = f1_score(y_test, y_hat)\n",
    "print('f1 score =', f1)"
   ]
  },
  {
   "cell_type": "code",
   "execution_count": 56,
   "metadata": {},
   "outputs": [
    {
     "name": "stdout",
     "output_type": "stream",
     "text": [
      "roc_auc = 0.9666666666666666\n"
     ]
    }
   ],
   "source": [
    "#Area Under ROC Curve (AUROC) metric\n",
    "from sklearn.metrics import roc_auc_score\n",
    "lr_probs = model.predict_proba(X_test)\n",
    "# Keep only the positive class\n",
    "#lr_probs = [p[1] for p in lr_probs]\n",
    "lr_probs\n",
    "print( 'roc_auc =', roc_auc_score(y_test, lr_probs[:,1]) )"
   ]
  },
  {
   "cell_type": "code",
   "execution_count": 57,
   "metadata": {},
   "outputs": [
    {
     "name": "stdout",
     "output_type": "stream",
     "text": [
      "No Skill: ROC AUC=0.500\n",
      "Logistic: ROC AUC=0.967\n"
     ]
    },
    {
     "data": {
      "image/png": "[encoded data removed]",
      "text/plain": [
       "<Figure size 432x288 with 1 Axes>"
      ]
     },
     "metadata": {
      "needs_background": "light"
     },
     "output_type": "display_data"
    }
   ],
   "source": [
    "from sklearn.metrics import roc_curve\n",
    "from sklearn.metrics import roc_auc_score\n",
    "from matplotlib import pyplot\n",
    "ns_probs = [0 for _ in range(len(y_test))]\n",
    "# predict probabilities\n",
    "lr_probs = model.predict_proba(X_test)\n",
    "# keep probabilities for the positive outcome only\n",
    "lr_probs = lr_probs[:, 1]\n",
    "# calculate scores\n",
    "ns_auc = roc_auc_score(y_test, ns_probs)\n",
    "lr_auc = roc_auc_score(y_test, lr_probs)\n",
    "# summarize scores\n",
    "print('No Skill: ROC AUC=%.3f' % (ns_auc))\n",
    "print('Logistic: ROC AUC=%.3f' % (lr_auc))\n",
    "# calculate roc curves\n",
    "ns_fpr, ns_tpr, _ = roc_curve(y_test, ns_probs)\n",
    "lr_fpr, lr_tpr, _ = roc_curve(y_test, lr_probs)\n",
    "# plot the roc curve for the model\n",
    "pyplot.plot(ns_fpr, ns_tpr, linestyle='--', label='No Skill')\n",
    "pyplot.plot(lr_fpr, lr_tpr, marker='.', label='Logistic')\n",
    "# axis labels\n",
    "pyplot.xlabel('False Positive Rate')\n",
    "pyplot.ylabel('True Positive Rate')\n",
    "# show the legend\n",
    "pyplot.legend()\n",
    "# show the plot\n",
    "pyplot.show()"
   ]
  },
  {
   "cell_type": "code",
   "execution_count": 58,
   "metadata": {},
   "outputs": [
    {
     "name": "stdout",
     "output_type": "stream",
     "text": [
      "Logistic: f1=0.909 auc=0.907\n"
     ]
    },
    {
     "data": {
      "image/png": "[encoded data removed]",
      "text/plain": [
       "<Figure size 432x288 with 1 Axes>"
      ]
     },
     "metadata": {
      "needs_background": "light"
     },
     "output_type": "display_data"
    }
   ],
   "source": [
    "from sklearn.metrics import auc\n",
    "lr_probs = model.predict_proba(X_test)\n",
    "lr_precision, lr_recall, _ = precision_recall_curve(y_test, lr_probs[:,1])\n",
    "lr_f1, lr_auc = f1_score(y_test, y_hat), auc(lr_recall, lr_precision)\n",
    "# summarize scores\n",
    "print('Logistic: f1=%.3f auc=%.3f' % (lr_f1, lr_auc))\n",
    "# plot the precision-recall curves\n",
    "no_skill = len(y_test[y_test==1]) / len(y_test)\n",
    "pyplot.plot([0, 1], [no_skill, no_skill], linestyle='--', label='No Skill')\n",
    "pyplot.plot(lr_recall, lr_precision, marker='.', label='Logistic')\n",
    "# axis labels\n",
    "pyplot.xlabel('Recall')\n",
    "pyplot.ylabel('Precision')\n",
    "# show the legend\n",
    "pyplot.legend()\n",
    "# show the plot\n",
    "pyplot.show()"
   ]
  },
  {
   "cell_type": "code",
   "execution_count": null,
   "metadata": {},
   "outputs": [],
   "source": []
  }
 ],
 "metadata": {
  "kernelspec": {
   "display_name": "Python 3",
   "language": "python",
   "name": "python3"
  },
  "language_info": {
   "codemirror_mode": {
    "name": "ipython",
    "version": 3
   },
   "file_extension": ".py",
   "mimetype": "text/x-python",
   "name": "python",
   "nbconvert_exporter": "python",
   "pygments_lexer": "ipython3",
   "version": "3.7.3"
  }
 },
 "nbformat": 4,
 "nbformat_minor": 2
}
