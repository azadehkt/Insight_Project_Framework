{
 "cells": [
  {
   "cell_type": "code",
   "execution_count": null,
   "metadata": {},
   "outputs": [],
   "source": [
    "#Conclusion"
   ]
  },
  {
   "cell_type": "code",
   "execution_count": 25,
   "metadata": {},
   "outputs": [],
   "source": [
    "import pandas as pd\n",
    "import matplotlib.pyplot as plt\n",
    "import numpy as np\n",
    "AUROC = [[0.976, 0.952 ,0.95 ,0.946, 0.967 ,0.98 ,0.75, 0.988, 0.967, 0.99],\n",
    "         [0.982, 0.957 ,0.94 ,0.943, 0.96 ,0.979, 0.87, 0.946 ,0.981 ,0.99],\n",
    "         [0.976, 0.843, 0.958, 0.926, 0.97, 0.952 ,0.827, 0.933, 0.971, 0.988],\n",
    "         [0.958 ,0.957, 0.935, 0.946, 0.95, 0.967, 0.756 ,0.929, 0.967, 0.994],\n",
    "         [0.988, 0.957, 0.956, 0.985, 0.983, 0.964, 0.732, 0.933, 0.97, 0.994]]\n",
    "Frame=pd.DataFrame(AUROC , columns = [\"XGBoost_Viral\", \"XGBoost_Host\", \"XGBoost_Host&Viral\", \"RandomForest_Viral\",\n",
    "                                          \"RandomForest_Host\",\"RandomForest_Host&Viral\", \"LogisticRegression_Viral\",\n",
    "                                        \"LogisticRegression_autoencoder_viral\", \"LogisticRegression_Host\",\n",
    "                                      \"LogisticRegression_Host&Viral\"])\n"
   ]
  },
  {
   "cell_type": "code",
   "execution_count": 26,
   "metadata": {},
   "outputs": [
    {
     "data": {
      "text/html": [
       "<div>\n",
       "<style scoped>\n",
       "    .dataframe tbody tr th:only-of-type {\n",
       "        vertical-align: middle;\n",
       "    }\n",
       "\n",
       "    .dataframe tbody tr th {\n",
       "        vertical-align: top;\n",
       "    }\n",
       "\n",
       "    .dataframe thead th {\n",
       "        text-align: right;\n",
       "    }\n",
       "</style>\n",
       "<table border=\"1\" class=\"dataframe\">\n",
       "  <thead>\n",
       "    <tr style=\"text-align: right;\">\n",
       "      <th></th>\n",
       "      <th>XGBoost_Viral</th>\n",
       "      <th>XGBoost_Host</th>\n",
       "      <th>XGBoost_Host&amp;Viral</th>\n",
       "      <th>RandomForest_Viral</th>\n",
       "      <th>RandomForest_Host</th>\n",
       "      <th>RandomForest_Host&amp;Viral</th>\n",
       "      <th>LogisticRegression_Viral</th>\n",
       "      <th>LogisticRegression_autoencoder_viral</th>\n",
       "      <th>LogisticRegression_Host</th>\n",
       "      <th>LogisticRegression_Host&amp;Viral</th>\n",
       "    </tr>\n",
       "  </thead>\n",
       "  <tbody>\n",
       "    <tr>\n",
       "      <th>0</th>\n",
       "      <td>0.976</td>\n",
       "      <td>0.952</td>\n",
       "      <td>0.950</td>\n",
       "      <td>0.946</td>\n",
       "      <td>0.967</td>\n",
       "      <td>0.980</td>\n",
       "      <td>0.750</td>\n",
       "      <td>0.988</td>\n",
       "      <td>0.967</td>\n",
       "      <td>0.990</td>\n",
       "    </tr>\n",
       "    <tr>\n",
       "      <th>1</th>\n",
       "      <td>0.982</td>\n",
       "      <td>0.957</td>\n",
       "      <td>0.940</td>\n",
       "      <td>0.943</td>\n",
       "      <td>0.960</td>\n",
       "      <td>0.979</td>\n",
       "      <td>0.870</td>\n",
       "      <td>0.946</td>\n",
       "      <td>0.981</td>\n",
       "      <td>0.990</td>\n",
       "    </tr>\n",
       "    <tr>\n",
       "      <th>2</th>\n",
       "      <td>0.976</td>\n",
       "      <td>0.843</td>\n",
       "      <td>0.958</td>\n",
       "      <td>0.926</td>\n",
       "      <td>0.970</td>\n",
       "      <td>0.952</td>\n",
       "      <td>0.827</td>\n",
       "      <td>0.933</td>\n",
       "      <td>0.971</td>\n",
       "      <td>0.988</td>\n",
       "    </tr>\n",
       "    <tr>\n",
       "      <th>3</th>\n",
       "      <td>0.958</td>\n",
       "      <td>0.957</td>\n",
       "      <td>0.935</td>\n",
       "      <td>0.946</td>\n",
       "      <td>0.950</td>\n",
       "      <td>0.967</td>\n",
       "      <td>0.756</td>\n",
       "      <td>0.929</td>\n",
       "      <td>0.967</td>\n",
       "      <td>0.994</td>\n",
       "    </tr>\n",
       "    <tr>\n",
       "      <th>4</th>\n",
       "      <td>0.988</td>\n",
       "      <td>0.957</td>\n",
       "      <td>0.956</td>\n",
       "      <td>0.985</td>\n",
       "      <td>0.983</td>\n",
       "      <td>0.964</td>\n",
       "      <td>0.732</td>\n",
       "      <td>0.933</td>\n",
       "      <td>0.970</td>\n",
       "      <td>0.994</td>\n",
       "    </tr>\n",
       "  </tbody>\n",
       "</table>\n",
       "</div>"
      ],
      "text/plain": [
       "   XGBoost_Viral  XGBoost_Host  XGBoost_Host&Viral  RandomForest_Viral  \\\n",
       "0          0.976         0.952               0.950               0.946   \n",
       "1          0.982         0.957               0.940               0.943   \n",
       "2          0.976         0.843               0.958               0.926   \n",
       "3          0.958         0.957               0.935               0.946   \n",
       "4          0.988         0.957               0.956               0.985   \n",
       "\n",
       "   RandomForest_Host  RandomForest_Host&Viral  LogisticRegression_Viral  \\\n",
       "0              0.967                    0.980                     0.750   \n",
       "1              0.960                    0.979                     0.870   \n",
       "2              0.970                    0.952                     0.827   \n",
       "3              0.950                    0.967                     0.756   \n",
       "4              0.983                    0.964                     0.732   \n",
       "\n",
       "   LogisticRegression_autoencoder_viral  LogisticRegression_Host  \\\n",
       "0                                 0.988                    0.967   \n",
       "1                                 0.946                    0.981   \n",
       "2                                 0.933                    0.971   \n",
       "3                                 0.929                    0.967   \n",
       "4                                 0.933                    0.970   \n",
       "\n",
       "   LogisticRegression_Host&Viral  \n",
       "0                          0.990  \n",
       "1                          0.990  \n",
       "2                          0.988  \n",
       "3                          0.994  \n",
       "4                          0.994  "
      ]
     },
     "execution_count": 26,
     "metadata": {},
     "output_type": "execute_result"
    }
   ],
   "source": [
    "Frame"
   ]
  },
  {
   "cell_type": "code",
   "execution_count": 35,
   "metadata": {},
   "outputs": [
    {
     "data": {
      "text/plain": [
       "XGBoost_Viral                           0.9760\n",
       "XGBoost_Host                            0.9332\n",
       "XGBoost_Host&Viral                      0.9478\n",
       "RandomForest_Viral                      0.9492\n",
       "RandomForest_Host                       0.9660\n",
       "RandomForest_Host&Viral                 0.9684\n",
       "LogisticRegression_Viral                0.7870\n",
       "LogisticRegression_autoencoder_viral    0.9458\n",
       "LogisticRegression_Host                 0.9712\n",
       "LogisticRegression_Host&Viral           0.9912\n",
       "dtype: float64"
      ]
     },
     "execution_count": 35,
     "metadata": {},
     "output_type": "execute_result"
    }
   ],
   "source": [
    "result_var = Frame.var()\n",
    "Frame.mean()"
   ]
  },
  {
   "cell_type": "code",
   "execution_count": 32,
   "metadata": {},
   "outputs": [
    {
     "data": {
      "text/plain": [
       "array([0.976 , 0.9332, 0.9478, 0.9492, 0.966 , 0.9684, 0.787 , 0.9458,\n",
       "       0.9712, 0.9912])"
      ]
     },
     "execution_count": 32,
     "metadata": {},
     "output_type": "execute_result"
    }
   ],
   "source": [
    "\n",
    "result_mean.values"
   ]
  },
  {
   "cell_type": "code",
   "execution_count": 136,
   "metadata": {},
   "outputs": [
    {
     "data": {
      "image/png": "[encoded data removed]",
      "text/plain": [
       "<Figure size 576x432 with 1 Axes>"
      ]
     },
     "metadata": {
      "needs_background": "light"
     },
     "output_type": "display_data"
    }
   ],
   "source": [
    "from matplotlib import cm\n",
    "\n",
    "Viral = [0.98, 0.95, 0.79]\n",
    "Viral_Autoencoder = [ 0,0 ,0.95]\n",
    "Host = [0.93, 0.97, 0.97]\n",
    "Viral_Host= [0.95, 0.97, 0.99]\n",
    "index=[\"XGBoost\",\"RandomForest\",\"LogisticRegression\"]\n",
    "color = cm.inferno_r(np.linspace(.3, .8,5))\n",
    "color\n",
    "df = pd.DataFrame({'Viral': Viral,\n",
    "                   'Viral & Autoencoder': Viral_Autoencoder, 'Host': Host, 'Viral & Host':Viral_Host }, index=index)\n",
    "ax = df.plot.bar(rot=0, linewidth=5, color=color, figsize=(8,6))\n",
    "ax.set_ylabel('AUROC Score')\n",
    "ax.set_title('Scores by Models and Features')\n",
    "ax.legend(loc=3)  \n",
    "\n",
    "autolabel(rects1)\n",
    "autolabel(rects2)\n",
    "autolabel(rects3)\n",
    "autolabel(rects4)\n",
    "fig.tight_layout()\n",
    "\n",
    "plt.show()\n",
    "\n"
   ]
  },
  {
   "cell_type": "code",
   "execution_count": 120,
   "metadata": {},
   "outputs": [
    {
     "data": {
      "image/png": "[encoded data removed]",
      "text/plain": [
       "<Figure size 432x288 with 1 Axes>"
      ]
     },
     "metadata": {
      "needs_background": "light"
     },
     "output_type": "display_data"
    }
   ],
   "source": [
    "Viral = [0.98, 0.95, 0.79]\n",
    "Viral_Autoencoder = [ 0,0 ,0.95]\n",
    "Host = [0.93, 0.97, 0.97]\n",
    "Viral_Host= [0.95, 0.97, 0.99]\n",
    "labels=[\"XGBoost\",\"RandomForest\",\"LogisticRegression\"]\n",
    "x = np.arange(len(labels))  # the label locations\n",
    "width = 0.2 # the width of the bars\n",
    "\n",
    "fig, ax = plt.subplots()\n",
    "rects1 = ax.bar(x - 1.5*width, Viral, width, label='Viral',color='darkred')\n",
    "rects2 = ax.bar(x - width/2, Viral_Autoencoder, width, label='Viral & Autoencoder',color='red')\n",
    "rects3 = ax.bar(x + 1.5*width, Host,width, label='Host')\n",
    "rects4 = ax.bar(x+ width/2, Viral_Host, width, label='Viral & Host')\n",
    "\n",
    "# Add some text for labels, title and custom x-axis tick labels, etc.\n",
    "ax.set_ylabel('AUROC Score')\n",
    "ax.set_title('Scores by Models and Features')\n",
    "ax.set_xticks(x)\n",
    "ax.set_xticklabels(labels)\n",
    "ax.legend()\n",
    "color = cm.inferno_r(np.linspace(.4, .8, 4))\n",
    "color\n",
    "def autolabel(rects):\n",
    "    \"\"\"Attach a text label above each bar in *rects*, displaying its height.\"\"\"\n",
    "    for rect in rects:\n",
    "        height = rect.get_height()\n",
    "        ax.annotate('{}'.format(height),\n",
    "                    xy=(rect.get_x() + rect.get_width() / 2, height),\n",
    "                    xytext=(0, 3),  # 3 points vertical offset\n",
    "                    textcoords=\"offset points\",\n",
    "                    ha='center', va='bottom')\n",
    "\n",
    "\n",
    "autolabel(rects1)\n",
    "autolabel(rects2)\n",
    "autolabel(rects3)\n",
    "autolabel(rects4)\n",
    "fig.tight_layout()\n",
    "\n",
    "plt.show()\n",
    "\n"
   ]
  },
  {
   "cell_type": "code",
   "execution_count": null,
   "metadata": {},
   "outputs": [],
   "source": []
  }
 ],
 "metadata": {
  "kernelspec": {
   "display_name": "Python 3",
   "language": "python",
   "name": "python3"
  },
  "language_info": {
   "codemirror_mode": {
    "name": "ipython",
    "version": 3
   },
   "file_extension": ".py",
   "mimetype": "text/x-python",
   "name": "python",
   "nbconvert_exporter": "python",
   "pygments_lexer": "ipython3",
   "version": "3.7.3"
  }
 },
 "nbformat": 4,
 "nbformat_minor": 4
}
